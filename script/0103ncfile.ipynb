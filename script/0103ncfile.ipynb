{
 "cells": [
  {
   "cell_type": "code",
   "execution_count": 1,
   "metadata": {},
   "outputs": [],
   "source": [
    "import netCDF4 as nc\n",
    "import numpy as np\n",
    "import matplotlib.pyplot as plt\n",
    "import pandas as pd\n",
    "import shutil\n",
    "\n",
    "def copy_netcdf(source_file, dest_file):\n",
    "    # Open the source file\n",
    "    with nc.Dataset(source_file, 'r') as src:\n",
    "        # Open the destination file\n",
    "        with nc.Dataset(dest_file, 'w') as dst:\n",
    "            # Copy dimensions\n",
    "            for name, dimension in src.dimensions.items():\n",
    "                dst.createDimension(name, (len(dimension) if not dimension.isunlimited() else None))\n",
    "            \n",
    "            # Copy variables\n",
    "            for name, variable in src.variables.items():\n",
    "                x = dst.createVariable(name, variable.datatype, variable.dimensions)\n",
    "                dst[name][:] = src[name][:]\n",
    "                \n",
    "                # Copy variable attributes\n",
    "                for attr_name in variable.ncattrs():\n",
    "                    setattr(x, attr_name, getattr(variable, attr_name))\n",
    "            \n",
    "            # Copy global attributes\n",
    "            for attr_name in src.ncattrs():\n",
    "                setattr(dst, attr_name, getattr(src, attr_name))\n",
    "\n",
    "# Replace with your file paths\n",
    "source_file = '/Users/changyichieh/Documents/Hot Jupiter/erainterim_moda_L60_N24_200001010000000.nc'\n",
    "dest_file = '/Users/changyichieh/Documents/Hot Jupiter/copy_netcdf.nc'\n",
    "\n",
    "copy_netcdf(source_file, dest_file)\n"
   ]
  },
  {
   "cell_type": "code",
   "execution_count": 2,
   "metadata": {},
   "outputs": [
    {
     "data": {
      "text/plain": [
       "<class 'netCDF4._netCDF4.Dataset'>\n",
       "root group (NETCDF3_CLASSIC data model, file format NETCDF3):\n",
       "    CDI: Climate Data Interface version 1.5.4 (http://code.zmaw.de/projects/cdi)\n",
       "    Conventions: CF-1.4\n",
       "    history: Thu Jan 21 13:26:27 2016: cdo -f nc copy erainterim_moda_L60_N24_200001010000000 erainterim_moda_L60_N24_200001010000000.nc\n",
       "    institution: European Centre for Medium-Range Weather Forecasts\n",
       "    CDO: Climate Data Operators version 1.5.4 (http://code.zmaw.de/projects/cdo)\n",
       "    dimensions(sizes): lon(96), lat(48), lev(60), nhym(60), nhyi(61), lev_2(1), time(1)\n",
       "    variables(dimensions): float64 lon(lon), float64 lat(lat), float64 lev(lev), float64 hyai(nhyi), float64 hybi(nhyi), float64 hyam(nhym), float64 hybm(nhym), float64 lev_2(lev_2), float64 time(time), float32 var130(time, lev, lat, lon), float32 var133(time, lev, lat, lon), float32 var152(time, lev_2, lat, lon), float32 var129(time, lev_2, lat, lon), float32 var131(time, lev, lat, lon), float32 var132(time, lev, lat, lon)\n",
       "    groups: "
      ]
     },
     "execution_count": 2,
     "metadata": {},
     "output_type": "execute_result"
    }
   ],
   "source": [
    "df = nc.Dataset(dest_file, 'a')\n",
    "df\n",
    "df_origin = nc.Dataset(source_file, 'r')\n",
    "df_origin"
   ]
  },
  {
   "cell_type": "markdown",
   "metadata": {},
   "source": [
    "## Plot the temperature"
   ]
  },
  {
   "cell_type": "code",
   "execution_count": 3,
   "metadata": {},
   "outputs": [
    {
     "data": {
      "image/png": "[encoded data removed]",
      "text/plain": [
       "<Figure size 640x480 with 2 Axes>"
      ]
     },
     "metadata": {},
     "output_type": "display_data"
    }
   ],
   "source": [
    "Temperature = df_origin.variables['var130'][:]\n",
    "from matplotlib.animation import FuncAnimation\n",
    "\n",
    "fig, ax = plt.subplots()\n",
    "cax = ax.imshow(Temperature[0, 0, :, :], cmap='jet')\n",
    "fig.colorbar(cax)\n",
    "\n",
    "# Animation update function\n",
    "def update(frame):\n",
    "    cax.set_data(Temperature[0, frame, :, :])\n",
    "    ax.set_title(f\"Level {frame}\")\n",
    "    return cax,\n",
    "\n",
    "# Create animation\n",
    "ani = FuncAnimation(fig, update, frames=Temperature.shape[1], blit=True)\n",
    "\n",
    "\n",
    "\n",
    "# To save the animation\n",
    "ani.save('temperature_animation.mp4')\n"
   ]
  },
  {
   "cell_type": "markdown",
   "metadata": {},
   "source": [
    "## Modify the .nc file"
   ]
  },
  {
   "cell_type": "markdown",
   "metadata": {},
   "source": [
    "#### Set the temperature, u,v to 0.0 "
   ]
  },
  {
   "cell_type": "code",
   "execution_count": 4,
   "metadata": {},
   "outputs": [],
   "source": [
    "df.variables['var130'][:] = 0\n",
    "df.variables['var131'][:] = 0\n",
    "df.variables['var132'][:] = 0"
   ]
  },
  {
   "cell_type": "code",
   "execution_count": 5,
   "metadata": {},
   "outputs": [],
   "source": [
    "df.close()"
   ]
  },
  {
   "cell_type": "code",
   "execution_count": 6,
   "metadata": {},
   "outputs": [
    {
     "data": {
      "text/plain": [
       "masked_array(\n",
       "  data=[[[[0., 0., 0., ..., 0., 0., 0.],\n",
       "          [0., 0., 0., ..., 0., 0., 0.],\n",
       "          [0., 0., 0., ..., 0., 0., 0.],\n",
       "          ...,\n",
       "          [0., 0., 0., ..., 0., 0., 0.],\n",
       "          [0., 0., 0., ..., 0., 0., 0.],\n",
       "          [0., 0., 0., ..., 0., 0., 0.]],\n",
       "\n",
       "         [[0., 0., 0., ..., 0., 0., 0.],\n",
       "          [0., 0., 0., ..., 0., 0., 0.],\n",
       "          [0., 0., 0., ..., 0., 0., 0.],\n",
       "          ...,\n",
       "          [0., 0., 0., ..., 0., 0., 0.],\n",
       "          [0., 0., 0., ..., 0., 0., 0.],\n",
       "          [0., 0., 0., ..., 0., 0., 0.]],\n",
       "\n",
       "         [[0., 0., 0., ..., 0., 0., 0.],\n",
       "          [0., 0., 0., ..., 0., 0., 0.],\n",
       "          [0., 0., 0., ..., 0., 0., 0.],\n",
       "          ...,\n",
       "          [0., 0., 0., ..., 0., 0., 0.],\n",
       "          [0., 0., 0., ..., 0., 0., 0.],\n",
       "          [0., 0., 0., ..., 0., 0., 0.]],\n",
       "\n",
       "         ...,\n",
       "\n",
       "         [[0., 0., 0., ..., 0., 0., 0.],\n",
       "          [0., 0., 0., ..., 0., 0., 0.],\n",
       "          [0., 0., 0., ..., 0., 0., 0.],\n",
       "          ...,\n",
       "          [0., 0., 0., ..., 0., 0., 0.],\n",
       "          [0., 0., 0., ..., 0., 0., 0.],\n",
       "          [0., 0., 0., ..., 0., 0., 0.]],\n",
       "\n",
       "         [[0., 0., 0., ..., 0., 0., 0.],\n",
       "          [0., 0., 0., ..., 0., 0., 0.],\n",
       "          [0., 0., 0., ..., 0., 0., 0.],\n",
       "          ...,\n",
       "          [0., 0., 0., ..., 0., 0., 0.],\n",
       "          [0., 0., 0., ..., 0., 0., 0.],\n",
       "          [0., 0., 0., ..., 0., 0., 0.]],\n",
       "\n",
       "         [[0., 0., 0., ..., 0., 0., 0.],\n",
       "          [0., 0., 0., ..., 0., 0., 0.],\n",
       "          [0., 0., 0., ..., 0., 0., 0.],\n",
       "          ...,\n",
       "          [0., 0., 0., ..., 0., 0., 0.],\n",
       "          [0., 0., 0., ..., 0., 0., 0.],\n",
       "          [0., 0., 0., ..., 0., 0., 0.]]]],\n",
       "  mask=False,\n",
       "  fill_value=1e+20,\n",
       "  dtype=float32)"
      ]
     },
     "execution_count": 6,
     "metadata": {},
     "output_type": "execute_result"
    }
   ],
   "source": [
    "df = nc.Dataset(dest_file, 'a')\n",
    "df.variables['var131'][:]"
   ]
  },
  {
   "cell_type": "code",
   "execution_count": 7,
   "metadata": {},
   "outputs": [],
   "source": [
    "df_Hd = pd.read_csv('/Users/changyichieh/Documents/Hot Jupiter/Hot_Jupiter_Github/hot_jupiter/Parmentier 2/PTprofile(20bar)(Hd209458b)(0103).csv')\n",
    "\n",
    "new_df = pd.DataFrame()\n",
    "\n",
    "new_df['N'] = df_Hd['N']\n",
    "new_df['P'] = df_Hd['P(Pa)']\n",
    "\n",
    "\n",
    "new_df['ak'] = df_Hd['P(Pa)']\n",
    "new_df['bk'] = 0\n",
    "new_df['ph'] = df_Hd['P(Pa)']\n",
    "# pf is the midpoint pressure of each layer\n",
    "new_df['pf'] = (new_df['P'] + new_df['P'].shift(1)) / 2\n",
    "new_df.loc[0, 'pf'] = new_df.loc[0, 'P']/2  # or any other method you find suitable\n",
    "\n",
    "\n",
    "if 'hyam' in df.variables:\n",
    "    df.variables['hyam'][:] = new_df['pf']\n",
    "\n",
    "if 'hybm' in df.variables:\n",
    "    df.variables['hybm'][:] = 0\n",
    "\n",
    "# insert a N=0 row\n",
    "new_df.loc[-1] = 0  # adding a row\n",
    "new_df.index = new_df.index + 1  # shifting index\n",
    "new_df = new_df.sort_index()  # sorting by index\n",
    "\n",
    "del new_df['P']\n",
    "\n",
    "\n",
    "if 'hybi' in df.variables:\n",
    "    df.variables['hybi'][:] = new_df['bk']\n",
    "\n",
    "if 'hyai' in df.variables:\n",
    "    df.variables['hyai'][:] = new_df['ak']\n",
    "\n",
    "\n",
    "\n",
    "\n"
   ]
  },
  {
   "cell_type": "code",
   "execution_count": 8,
   "metadata": {},
   "outputs": [
    {
     "name": "stdout",
     "output_type": "stream",
     "text": [
      "lon (96,)\n",
      "lat (48,)\n",
      "lev (60,)\n",
      "hyai (61,)\n",
      "hybi (61,)\n",
      "hyam (60,)\n",
      "hybm (60,)\n",
      "lev_2 (1,)\n",
      "time (1,)\n",
      "var130 (1, 60, 48, 96)\n",
      "var133 (1, 60, 48, 96)\n",
      "var152 (1, 1, 48, 96)\n",
      "var129 (1, 1, 48, 96)\n",
      "var131 (1, 60, 48, 96)\n",
      "var132 (1, 60, 48, 96)\n",
      "[0.00e+00 1.00e+01 1.23e+01 1.51e+01 1.86e+01 2.29e+01 2.81e+01 3.46e+01\n",
      " 4.26e+01 5.23e+01 6.44e+01 7.92e+01 9.73e+01 1.20e+02 1.47e+02 1.81e+02\n",
      " 2.23e+02 2.74e+02 3.37e+02 4.14e+02 5.09e+02 6.27e+02 7.71e+02 9.48e+02\n",
      " 1.17e+03 1.43e+03 1.76e+03 2.17e+03 2.67e+03 3.28e+03 4.03e+03 4.96e+03\n",
      " 6.10e+03 7.50e+03 9.23e+03 1.13e+04 1.40e+04 1.72e+04 2.11e+04 2.60e+04\n",
      " 3.19e+04 3.93e+04 4.83e+04 5.94e+04 7.30e+04 8.98e+04 1.10e+05 1.36e+05\n",
      " 1.67e+05 2.05e+05 2.53e+05 3.11e+05 3.82e+05 4.70e+05 5.78e+05 7.11e+05\n",
      " 8.74e+05 1.08e+06 1.32e+06 1.63e+06 2.00e+06]\n",
      "[0.00000000e+00 2.00000000e+01 3.84253387e+01 6.36477966e+01\n",
      " 9.56369629e+01 1.34483307e+02 1.80584351e+02 2.34779053e+02\n",
      " 2.98495850e+02 3.73971924e+02 4.64618164e+02 5.75651123e+02\n",
      " 7.13218018e+02 8.83660400e+02 1.09483472e+03 1.35647461e+03\n",
      " 1.68064038e+03 2.08227393e+03 2.57988867e+03 3.19642163e+03\n",
      " 3.96029150e+03 4.90670703e+03 6.01801953e+03 7.30663281e+03\n",
      " 8.76505469e+03 1.03761250e+04 1.20774453e+04 1.37753242e+04\n",
      " 1.53798047e+04 1.68194727e+04 1.80451836e+04 1.90276953e+04\n",
      " 1.97551094e+04 2.02222031e+04 2.04298633e+04 2.03844805e+04\n",
      " 2.00974023e+04 1.95843281e+04 1.88647500e+04 1.79613594e+04\n",
      " 1.68994688e+04 1.57064492e+04 1.44111250e+04 1.30432188e+04\n",
      " 1.16327578e+04 1.02095000e+04 8.80235547e+03 7.43880469e+03\n",
      " 6.14431641e+03 4.94177734e+03 3.85091333e+03 2.88769653e+03\n",
      " 2.06377979e+03 1.38591260e+03 8.55361816e+02 4.67333496e+02\n",
      " 2.10393890e+02 6.58892365e+01 7.36774254e+00 0.00000000e+00\n",
      " 0.00000000e+00]\n"
     ]
    }
   ],
   "source": [
    "# check the dimensions of all variables\n",
    "for i in df.variables.keys():\n",
    "    print(i, df.variables[i].shape)\n",
    "\n",
    "print(df['hyai'][:])\n",
    "print(df_origin['hyai'][:])\n",
    "\n",
    "# Close the file\n",
    "# df.close()"
   ]
  },
  {
   "cell_type": "code",
   "execution_count": 9,
   "metadata": {},
   "outputs": [
    {
     "data": {
      "text/plain": [
       "<class 'netCDF4._netCDF4.Variable'>\n",
       "float64 lev_2(lev_2)\n",
       "    standard_name: hybrid_sigma_pressure\n",
       "    long_name: hybrid level at layer midpoints\n",
       "    units: level\n",
       "    positive: down\n",
       "    formula: hyam hybm (mlev=hyam+hybm*aps)\n",
       "    formula_terms: ap: hyam b: hybm ps: aps\n",
       "unlimited dimensions: \n",
       "current shape = (1,)\n",
       "filling on, default _FillValue of 9.969209968386869e+36 used"
      ]
     },
     "execution_count": 9,
     "metadata": {},
     "output_type": "execute_result"
    }
   ],
   "source": [
    "# df['hyai'] -> model level a\n",
    "# df['hybi'] -> model level b\n",
    "# df['hyam'] # -> model level mid a\n",
    "# df['hybm'] # -> model level mid b\n",
    "\n",
    "# lev_2 -> bottom level ???\n",
    "\n",
    "\n",
    "# ----------------------------\n",
    "\n",
    "# var130 : temperature \n",
    "# var133 : specific humidity\n",
    "# var152 : Logarithm of surface pressure\n",
    "\n",
    "# var129 : Geopotential\n",
    "# var131 : u-component of wind\n",
    "# var132 : v-component of wind\n",
    "\n",
    "\n",
    "\n",
    "\n",
    "\n",
    "df['lev_2']"
   ]
  }
 ],
 "metadata": {
  "kernelspec": {
   "display_name": "Python 3",
   "language": "python",
   "name": "python3"
  },
  "language_info": {
   "codemirror_mode": {
    "name": "ipython",
    "version": 3
   },
   "file_extension": ".py",
   "mimetype": "text/x-python",
   "name": "python",
   "nbconvert_exporter": "python",
   "pygments_lexer": "ipython3",
   "version": "3.11.6"
  }
 },
 "nbformat": 4,
 "nbformat_minor": 2
}
