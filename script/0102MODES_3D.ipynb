{
 "cells": [
  {
   "cell_type": "code",
   "execution_count": 1,
   "metadata": {},
   "outputs": [
    {
     "data": {
      "text/plain": [
       "0     1706.2\n",
       "1     1705.6\n",
       "2     1704.8\n",
       "3     1703.8\n",
       "4     1702.6\n",
       "5     1701.1\n",
       "6     1699.4\n",
       "7     1697.2\n",
       "8     1694.6\n",
       "9     1691.5\n",
       "10    1687.8\n",
       "11    1683.5\n",
       "12    1678.3\n",
       "13    1672.4\n",
       "14    1665.6\n",
       "15    1658.1\n",
       "16    1649.8\n",
       "17    1641.1\n",
       "18    1632.2\n",
       "19    1623.9\n",
       "20    1616.6\n",
       "21    1611.3\n",
       "22    1609.1\n",
       "23    1610.8\n",
       "24    1617.3\n",
       "25    1629.2\n",
       "26    1646.3\n",
       "27    1667.9\n",
       "28    1692.5\n",
       "29    1718.7\n",
       "30    1745.3\n",
       "31    1771.2\n",
       "32    1795.9\n",
       "33    1819.5\n",
       "34    1842.3\n",
       "35    1864.5\n",
       "36    1885.9\n",
       "37    1905.6\n",
       "38    1922.3\n",
       "39    1935.3\n",
       "40    1944.0\n",
       "41    1949.1\n",
       "42    1951.7\n",
       "43    1952.9\n",
       "44    1953.7\n",
       "45    1954.3\n",
       "46    1955.0\n",
       "47    1955.9\n",
       "48    1957.0\n",
       "49    1958.5\n",
       "50    1960.5\n",
       "51    1963.2\n",
       "52    1966.8\n",
       "53    1971.7\n",
       "54    1978.4\n",
       "55    1987.4\n",
       "56    1999.6\n",
       "57    2016.1\n",
       "58    2038.4\n",
       "59    2068.5\n",
       "Name: T(K), dtype: float64"
      ]
     },
     "execution_count": 1,
     "metadata": {},
     "output_type": "execute_result"
    }
   ],
   "source": [
    "import pandas as pd\n",
    "import numpy as np\n",
    "import matplotlib.pyplot as plt\n",
    "\n",
    "# Read in the data\n",
    "df = pd.read_csv('/Users/changyichieh/Documents/Hot Jupiter/Hot_Jupiter_Github/hot_jupiter/Parmentier 2/PTprofile(20bar)(Hd209458b)(0103).csv')\n",
    "df['T(K)']"
   ]
  },
  {
   "cell_type": "markdown",
   "metadata": {},
   "source": [
    "$$\n",
    "\\epsilon^{\\prime}(\\lambda, \\phi, \\sigma)=\\sum_i \\frac{\\pi}{2} \\beta_{\\mathrm{v} i} \\sqrt{3} \\gamma_{\\mathrm{v} i} \\kappa_R \\sigma_B T_{i r r}^4 \\exp \\left(-\\sqrt{3} \\gamma_{\\mathrm{v} i} \\tau\\right) \\cos \\phi \\exp (\\mathrm{i} \\lambda)\n",
    "$$"
   ]
  },
  {
   "cell_type": "code",
   "execution_count": 2,
   "metadata": {},
   "outputs": [],
   "source": [
    "\n",
    "sigma_b = 5.67037442e-8\n",
    "beta_1,beta_2,beta_3 = df['Betav1'],df['Betav2'],df['Betav3']\n",
    "gv_1,gv_2,gv_3 = df['Gv1'],df['Gv2'],df['Gv3']\n",
    "tau = df['tau']\n",
    "kappa_R = df['Kappa(m^2/kg)']\n",
    "T_irr = df['T_irr(K)']\n",
    "\n",
    "# calculate the source \n",
    "df['epsilon(tau)'] = np.pi/2*beta_1*np.sqrt(3)*gv_1*kappa_R*sigma_b*T_irr**4*np.exp(-np.sqrt(3)*gv_1*tau)+\\\n",
    "                     np.pi/2*beta_2*np.sqrt(3)*gv_2*kappa_R*sigma_b*T_irr**4*np.exp(-np.sqrt(3)*gv_2*tau)+\\\n",
    "                    np.pi/2*beta_3*np.sqrt(3)*gv_3*kappa_R*sigma_b*T_irr**4*np.exp(-np.sqrt(3)*gv_3*tau)\n",
    "\n",
    "\n",
    "# # make it be a 3D profile by considering lambda and phi\n",
    "# N_lambda = 32\n",
    "# N_phi = 32\n",
    "\n",
    "# # Initialize an empty array for the 3D profile\n",
    "# epsilon_prime = np.zeros((N_lambda, N_phi, len(df['epsilon(tau)'])))\n",
    "\n",
    "# lambda_values = np.linspace(0, 2*np.pi, N_lambda)  # lambda ranges from 0 to 2*pi\n",
    "# phi_values = np.linspace(0, np.pi, N_phi)         # phi ranges from 0 to pi\n",
    "\n",
    "\n",
    "# # Calculate the 3D profile\n",
    "# for i, lambda_ in enumerate(lambda_values):\n",
    "#     for j, phi in enumerate(phi_values):\n",
    "#         epsilon_prime[i, j, :] = df['epsilon(tau)'] * np.cos(phi) * np.exp(1j * lambda_)\n",
    "\n",
    "# epsilon_prime"
   ]
  },
  {
   "cell_type": "markdown",
   "metadata": {},
   "source": [
    "$$\n",
    "\\Gamma_0 \\equiv \\dfrac{R T_0}{c_p \\sigma}-\\dfrac{d T_0 }{d \\sigma}\n",
    "$$"
   ]
  },
  {
   "cell_type": "code",
   "execution_count": 3,
   "metadata": {},
   "outputs": [
    {
     "name": "stderr",
     "output_type": "stream",
     "text": [
      "/var/folders/23/rfr22z5x0bd1z52b78mb8bmm0000gn/T/ipykernel_56326/262850172.py:10: SettingWithCopyWarning: \n",
      "A value is trying to be set on a copy of a slice from a DataFrame\n",
      "\n",
      "See the caveats in the documentation: https://pandas.pydata.org/pandas-docs/stable/user_guide/indexing.html#returning-a-view-versus-a-copy\n",
      "  df['dT/dsigma'][0] = (df['T(K)'][1] - df['T(K)'][0])/(df['sigma'][1] - df['sigma'][0])\n",
      "/var/folders/23/rfr22z5x0bd1z52b78mb8bmm0000gn/T/ipykernel_56326/262850172.py:11: SettingWithCopyWarning: \n",
      "A value is trying to be set on a copy of a slice from a DataFrame\n",
      "\n",
      "See the caveats in the documentation: https://pandas.pydata.org/pandas-docs/stable/user_guide/indexing.html#returning-a-view-versus-a-copy\n",
      "  df['dT/dsigma'][len(df)-1] = (df['T(K)'][len(df)-1] - df['T(K)'][len(df)-2])/(df['sigma'][len(df)-1] - df['sigma'][len(df)-2])\n"
     ]
    }
   ],
   "source": [
    "T = df['T(K)']\n",
    "cp = 12330.08474\n",
    "sigma = df['sigma']\n",
    "R = df['R(J/(K*g))']\n",
    "\n",
    "# calculate the temperature gradient base on the sigma\n",
    "# use central difference\n",
    "df['dT/dsigma'] = (df['T(K)'].shift(-1) - df['T(K)'].shift(1))/(df['sigma'].shift(-1) - df['sigma'].shift(1))\n",
    "# for the first and last row, use forward and backward difference\n",
    "df['dT/dsigma'][0] = (df['T(K)'][1] - df['T(K)'][0])/(df['sigma'][1] - df['sigma'][0])\n",
    "df['dT/dsigma'][len(df)-1] = (df['T(K)'][len(df)-1] - df['T(K)'][len(df)-2])/(df['sigma'][len(df)-1] - df['sigma'][len(df)-2])\n",
    "\n",
    "# # check the temperature gradient\n",
    "# fig, (ax1, ax2) = plt.subplots(1, 2, figsize=(10, 6))\n",
    "# ax1.plot(df['dT/dsigma'], df['sigma'])\n",
    "# ax1.set_xlabel('dT/dsigma')\n",
    "# ax1.set_ylabel('sigma')\n",
    "# ax1.set_yscale('log')\n",
    "# ax1.set_title('sigma vs dT/dsigma')\n",
    "# ax1.invert_yaxis()\n",
    "\n",
    "# ax2.plot(T, sigma)\n",
    "# ax2.set_xlabel('T(K)')\n",
    "# ax2.set_ylabel('sigma')\n",
    "# ax2.set_yscale('log')\n",
    "# ax2.set_title('sigma vs T(K)')\n",
    "# ax2.invert_yaxis()\n",
    "\n",
    "# plt.tight_layout()\n",
    "# plt.show()\n",
    "\n",
    "\n",
    "# calculate gamma0\n",
    "df['gamma_0'] = -df['dT/dsigma']+R/cp*T/df['sigma']"
   ]
  },
  {
   "cell_type": "code",
   "execution_count": 4,
   "metadata": {},
   "outputs": [],
   "source": [
    "df['epsilon(tau)/gamma_0'] = df['epsilon(tau)']/df['gamma_0']"
   ]
  },
  {
   "cell_type": "code",
   "execution_count": 5,
   "metadata": {},
   "outputs": [
    {
     "name": "stderr",
     "output_type": "stream",
     "text": [
      "/var/folders/23/rfr22z5x0bd1z52b78mb8bmm0000gn/T/ipykernel_56326/283015989.py:5: SettingWithCopyWarning: \n",
      "A value is trying to be set on a copy of a slice from a DataFrame\n",
      "\n",
      "See the caveats in the documentation: https://pandas.pydata.org/pandas-docs/stable/user_guide/indexing.html#returning-a-view-versus-a-copy\n",
      "  df['d(epsilon(tau)/gamma_0)/dsigma'][0] = (df['epsilon(tau)/gamma_0'][1] - df['epsilon(tau)/gamma_0'][0])/(df['sigma'][1] - df['sigma'][0])\n",
      "/var/folders/23/rfr22z5x0bd1z52b78mb8bmm0000gn/T/ipykernel_56326/283015989.py:6: SettingWithCopyWarning: \n",
      "A value is trying to be set on a copy of a slice from a DataFrame\n",
      "\n",
      "See the caveats in the documentation: https://pandas.pydata.org/pandas-docs/stable/user_guide/indexing.html#returning-a-view-versus-a-copy\n",
      "  df['d(epsilon(tau)/gamma_0)/dsigma'][len(df)-1] = (df['epsilon(tau)/gamma_0'][len(df)-1] - df['epsilon(tau)/gamma_0'][len(df)-2])/(df['sigma'][len(df)-1] - df['sigma'][len(df)-2])\n"
     ]
    },
    {
     "data": {
      "image/png": "[encoded data removed]",
      "text/plain": [
       "<Figure size 1000x600 with 2 Axes>"
      ]
     },
     "metadata": {},
     "output_type": "display_data"
    }
   ],
   "source": [
    "# calculate the gradient of epsilon(tau)/gamma_0 with respect to sigma\n",
    "# use central difference\n",
    "df['d(epsilon(tau)/gamma_0)/dsigma'] = (df['epsilon(tau)/gamma_0'].shift(-1) - df['epsilon(tau)/gamma_0'].shift(1))/(df['sigma'].shift(-1) - df['sigma'].shift(1))\n",
    "# for the first and last row, use forward and backward difference\n",
    "df['d(epsilon(tau)/gamma_0)/dsigma'][0] = (df['epsilon(tau)/gamma_0'][1] - df['epsilon(tau)/gamma_0'][0])/(df['sigma'][1] - df['sigma'][0])\n",
    "df['d(epsilon(tau)/gamma_0)/dsigma'][len(df)-1] = (df['epsilon(tau)/gamma_0'][len(df)-1] - df['epsilon(tau)/gamma_0'][len(df)-2])/(df['sigma'][len(df)-1] - df['sigma'][len(df)-2])\n",
    "\n",
    "# check the gradient of epsilon(tau)/gamma_0 with respect to sigma\n",
    "fig, (ax1, ax2) = plt.subplots(1, 2, figsize=(10, 6))\n",
    "ax1.plot(df['d(epsilon(tau)/gamma_0)/dsigma'], df['sigma'])\n",
    "ax1.set_xlabel('d(epsilon(tau)/gamma_0)/dsigma')\n",
    "ax1.set_ylabel('sigma')\n",
    "ax1.set_yscale('log')\n",
    "ax1.set_title('sigma vs d(epsilon(tau)/gamma_0)/dsigma')\n",
    "ax1.invert_yaxis()\n",
    "\n",
    "ax2.plot(df['epsilon(tau)/gamma_0'], df['sigma'])\n",
    "ax2.set_xlabel('epsilon(tau)/gamma_0')\n",
    "ax2.set_ylabel('sigma')\n",
    "ax2.set_yscale('log')\n",
    "ax2.set_title('sigma vs epsilon(tau)/gamma_0')\n",
    "ax2.invert_yaxis()\n",
    "\n",
    "plt.tight_layout()\n",
    "plt.show()\n"
   ]
  },
  {
   "cell_type": "markdown",
   "metadata": {},
   "source": [
    "$$\n",
    "-\\dfrac{1}{c_p}\\dfrac{\\partial}{\\partial \\sigma}\\left( \\dfrac{\\epsilon_f}{\\Gamma_0} \\right)\n",
    "$$"
   ]
  },
  {
   "cell_type": "code",
   "execution_count": 6,
   "metadata": {},
   "outputs": [],
   "source": [
    "df['forced_perturbation'] = -1/cp*df['d(epsilon(tau)/gamma_0)/dsigma']"
   ]
  },
  {
   "cell_type": "code",
   "execution_count": 7,
   "metadata": {},
   "outputs": [
    {
     "name": "stderr",
     "output_type": "stream",
     "text": [
      "/opt/homebrew/lib/python3.11/site-packages/pandas/core/series.py:893: ComplexWarning: Casting complex values to real discards the imaginary part\n",
      "  return np.asarray(self._values, dtype)\n"
     ]
    },
    {
     "data": {
      "text/plain": [
       "(96, 48, 60)"
      ]
     },
     "execution_count": 7,
     "metadata": {},
     "output_type": "execute_result"
    }
   ],
   "source": [
    "N_lambda = 96\n",
    "N_phi = 48\n",
    "\n",
    "# Initialize an empty array for the 3D profile\n",
    "epsilon_prime = np.zeros((N_lambda, N_phi, len(df['forced_perturbation'])))\n",
    "\n",
    "lambda_values = np.linspace(0, 2*np.pi, N_lambda)  # lambda ranges from 0 to 2*pi\n",
    "phi_values = np.linspace(0.5*np.pi, -0.5*np.pi, N_phi)         # phi ranges from 0 to pi\n",
    "\n",
    "# Calculate the 3D profile\n",
    "for i, lambda_ in enumerate(lambda_values):\n",
    "    for j, phi in enumerate(phi_values):\n",
    "        epsilon_prime[i, j, :] = df['forced_perturbation'] * np.cos(phi) * np.exp(1j * lambda_)\n",
    "\n",
    "epsilon_prime.shape"
   ]
  },
  {
   "cell_type": "code",
   "execution_count": 12,
   "metadata": {},
   "outputs": [],
   "source": [
    "# store the 3D profile with slices:\n",
    "# format :\n",
    "# Dimensions: 60 96 48\n",
    "\n",
    "# 60 slices\n",
    "# 96 rows\n",
    "# 48 columns\n",
    "\n",
    "with open('epsilon_prime_3D_profile.txt', 'w') as f:\n",
    "    f.write('Dimensions: 60 96 48\\n')\n",
    "    for i in range(60):\n",
    "        f.write('Slice: ' + str(i+1) + '\\n')\n",
    "        for j in range(96):\n",
    "            for k in range(48):\n",
    "                f.write(str(epsilon_prime[j,k,i]) + ' ')\n",
    "            f.write('\\n')\n",
    "        # f.write('\\n')\n",
    "    f.close()"
   ]
  },
  {
   "cell_type": "code",
   "execution_count": 8,
   "metadata": {},
   "outputs": [],
   "source": [
    "# store the stability profile from bottom to top : 1D\n",
    "stability_profile = np.zeros(len(df['forced_perturbation']))\n",
    "for i in range(len(df['forced_perturbation'])):\n",
    "    stability_profile[i] = df['gamma_0'][len(df['forced_perturbation'])-1-i]\n",
    "\n",
    "# save the stability profile to a txt file line by line\n",
    "np.savetxt('stability_profile.txt', stability_profile, delimiter='\\n')"
   ]
  },
  {
   "cell_type": "code",
   "execution_count": 9,
   "metadata": {},
   "outputs": [],
   "source": [
    "sigma = df['sigma']\n",
    "# store the sigma profile from bottom to top : 1D\n",
    "sigma_profile = np.zeros(len(df['forced_perturbation']))\n",
    "for i in range(len(df['forced_perturbation'])):\n",
    "    sigma_profile[i] = df['sigma'][len(df['forced_perturbation'])-1-i]\n",
    "\n",
    "# save the sigma profile to a txt file line by line\n",
    "np.savetxt('sigma_profile.txt', sigma_profile, delimiter='\\n')"
   ]
  }
 ],
 "metadata": {
  "kernelspec": {
   "display_name": "Python 3",
   "language": "python",
   "name": "python3"
  },
  "language_info": {
   "codemirror_mode": {
    "name": "ipython",
    "version": 3
   },
   "file_extension": ".py",
   "mimetype": "text/x-python",
   "name": "python",
   "nbconvert_exporter": "python",
   "pygments_lexer": "ipython3",
   "version": "3.11.6"
  }
 },
 "nbformat": 4,
 "nbformat_minor": 2
}
